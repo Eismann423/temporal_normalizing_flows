{
 "cells": [
  {
   "cell_type": "markdown",
   "metadata": {},
   "source": [
    "In this notebook we show an example of how to apply the temporal Normalizing flows on random walkers. \n",
    "\n",
    "**Using a GPU leads to significant speed ups!**"
   ]
  },
  {
   "cell_type": "code",
   "execution_count": null,
   "metadata": {},
   "outputs": [],
   "source": [
    "#Imports\n",
    "import numpy as np\n",
    "import torch\n",
    "import matplotlib.pyplot as plt\n",
    "import seaborn as sns\n",
    "sns.set()\n",
    "\n",
    "#from diffusioncharacterization.ctrw.random_walks import advection_diffusion_random_walk\n",
    "from temporal_normalizing_flows.neural_flow import neural_flow\n",
    "from temporal_normalizing_flows.latent_distributions import gaussian\n",
    "from temporal_normalizing_flows.preprocessing import prepare_data\n",
    "\n",
    "try:\n",
    "    torch.set_default_tensor_type('torch.cuda.FloatTensor')  # enable for GPU\n",
    "except:\n",
    "    pass\n",
    "\n",
    "\n",
    "#%% Settings for reproducibility\n",
    "np.random.seed(42)\n",
    "torch.manual_seed(0)\n",
    "torch.backends.cudnn.deterministic = True\n",
    "torch.backends.cudnn.benchmark = False"
   ]
  },
  {
   "cell_type": "markdown",
   "metadata": {},
   "source": [
    "# Making random walk data"
   ]
  },
  {
   "cell_type": "markdown",
   "metadata": {},
   "source": [
    "We start by creating a dataset:"
   ]
  },
  {
   "cell_type": "code",
   "execution_count": null,
   "metadata": {},
   "outputs": [],
   "source": [
    "def advection_diffusion_random_walk(walk_params, traj_params, initial_conditions):\n",
    "    num_steps, num_walkers, dt = walk_params\n",
    "    Diff, v = traj_params\n",
    "\n",
    "    steps = np.random.normal(loc=v*dt, scale=np.sqrt(2*Diff*dt), size=(num_steps, num_walkers))\n",
    "    trajectory = np.concatenate((initial_conditions, initial_conditions + np.cumsum(np.array(steps), axis=0)), axis=0)\n",
    "    time = np.arange(num_steps + 1) * dt\n",
    "\n",
    "    return time, trajectory"
   ]
  },
  {
   "cell_type": "code",
   "execution_count": null,
   "metadata": {},
   "outputs": [],
   "source": [
    "walk_params = [99, 500, 0.05]  # timesteps, walkers, stepsize\n",
    "traj_params = [2.0, 0.0]       # Diffusion coefficient, velocity\n",
    "initial_conditions = np.random.normal(loc=1.5, scale=0.5, size=(1, walk_params[1]))\n",
    "\n",
    "time, position = advection_diffusion_random_walk(walk_params, traj_params, initial_conditions)"
   ]
  },
  {
   "cell_type": "markdown",
   "metadata": {},
   "source": [
    "We plot all the positions:"
   ]
  },
  {
   "cell_type": "code",
   "execution_count": null,
   "metadata": {},
   "outputs": [],
   "source": [
    "plt.figure(figsize=(8, 5))\n",
    "plt.plot(time, position)\n",
    "\n",
    "plt.xlabel('t')\n",
    "plt.ylabel('x')\n",
    "plt.xlim([0, 5])\n",
    "plt.show()"
   ]
  },
  {
   "cell_type": "markdown",
   "metadata": {},
   "source": [
    "And make an estimate of the density:"
   ]
  },
  {
   "cell_type": "code",
   "execution_count": null,
   "metadata": {},
   "outputs": [],
   "source": [
    "frame = 50\n",
    "sns.distplot(position[:, frame], bins='auto')\n",
    "plt.title('t={}'.format(time[frame]))\n",
    "plt.show()"
   ]
  },
  {
   "cell_type": "markdown",
   "metadata": {},
   "source": [
    "# Temporal Normalizing Flow"
   ]
  },
  {
   "cell_type": "markdown",
   "metadata": {},
   "source": [
    "Now we make an estimate using the temporal normalizing flow. We first select the grid on which we calculate and prepare the dataset;"
   ]
  },
  {
   "cell_type": "code",
   "execution_count": null,
   "metadata": {},
   "outputs": [],
   "source": [
    "#%% Time-dependent neural flow\n",
    "x_sample = np.linspace(-15, 15, 1000)\n",
    "t_sample = time\n",
    "dataset = prepare_data(position, time, x_sample, t_sample)"
   ]
  },
  {
   "cell_type": "markdown",
   "metadata": {},
   "source": [
    "Now we create a flow and train it:"
   ]
  },
  {
   "cell_type": "code",
   "execution_count": null,
   "metadata": {},
   "outputs": [],
   "source": [
    "flow = neural_flow(gaussian)\n",
    "flow.train(dataset, 10000)"
   ]
  },
  {
   "cell_type": "markdown",
   "metadata": {},
   "source": [
    "We get our results by sampling the dataset:"
   ]
  },
  {
   "cell_type": "code",
   "execution_count": null,
   "metadata": {},
   "outputs": [],
   "source": [
    "px, pz, jacob, z = flow.sample(dataset)"
   ]
  },
  {
   "cell_type": "code",
   "execution_count": null,
   "metadata": {},
   "outputs": [],
   "source": [
    "plt.contourf(px)\n",
    "plt.xlabel('x')\n",
    "plt.ylabel('t')"
   ]
  }
 ],
 "metadata": {
  "kernelspec": {
   "display_name": "Python 3",
   "language": "python",
   "name": "python3"
  },
  "language_info": {
   "codemirror_mode": {
    "name": "ipython",
    "version": 3
   },
   "file_extension": ".py",
   "mimetype": "text/x-python",
   "name": "python",
   "nbconvert_exporter": "python",
   "pygments_lexer": "ipython3",
   "version": "3.6.8"
  }
 },
 "nbformat": 4,
 "nbformat_minor": 2
}
